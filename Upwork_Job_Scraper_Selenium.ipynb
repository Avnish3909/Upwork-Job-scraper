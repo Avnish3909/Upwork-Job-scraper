{
  "nbformat": 4,
  "nbformat_minor": 0,
  "metadata": {
    "colab": {
      "provenance": [],
      "toc_visible": true,
      "authorship_tag": "ABX9TyN9p32QJYZpNiwkKbuGueMo",
      "include_colab_link": true
    },
    "kernelspec": {
      "name": "python3",
      "display_name": "Python 3"
    },
    "language_info": {
      "name": "python"
    }
  },
  "cells": [
    {
      "cell_type": "markdown",
      "metadata": {
        "id": "view-in-github",
        "colab_type": "text"
      },
      "source": [
        "<a href=\"https://colab.research.google.com/github/Avnish3909/Upwork-Job-scraper/blob/main/Upwork_Job_Scraper_Selenium.ipynb\" target=\"_parent\"><img src=\"https://colab.research.google.com/assets/colab-badge.svg\" alt=\"Open In Colab\"/></a>"
      ]
    },
    {
      "cell_type": "code",
      "source": [
        "pip install selenium"
      ],
      "metadata": {
        "colab": {
          "base_uri": "https://localhost:8080/"
        },
        "id": "TFE9NNHg8zq3",
        "outputId": "d1ad84c5-ac86-4048-e1fa-10450e09b934"
      },
      "execution_count": 1,
      "outputs": [
        {
          "output_type": "stream",
          "name": "stdout",
          "text": [
            "Collecting selenium\n",
            "  Downloading selenium-4.15.0-py3-none-any.whl (10.2 MB)\n",
            "\u001b[2K     \u001b[90m━━━━━━━━━━━━━━━━━━━━━━━━━━━━━━━━━━━━━━━━\u001b[0m \u001b[32m10.2/10.2 MB\u001b[0m \u001b[31m26.0 MB/s\u001b[0m eta \u001b[36m0:00:00\u001b[0m\n",
            "\u001b[?25hRequirement already satisfied: urllib3[socks]<3,>=1.26 in /usr/local/lib/python3.10/dist-packages (from selenium) (2.0.7)\n",
            "Collecting trio~=0.17 (from selenium)\n",
            "  Downloading trio-0.22.2-py3-none-any.whl (400 kB)\n",
            "\u001b[2K     \u001b[90m━━━━━━━━━━━━━━━━━━━━━━━━━━━━━━━━━━━━━━━━\u001b[0m \u001b[32m400.2/400.2 kB\u001b[0m \u001b[31m34.4 MB/s\u001b[0m eta \u001b[36m0:00:00\u001b[0m\n",
            "\u001b[?25hCollecting trio-websocket~=0.9 (from selenium)\n",
            "  Downloading trio_websocket-0.11.1-py3-none-any.whl (17 kB)\n",
            "Requirement already satisfied: certifi>=2021.10.8 in /usr/local/lib/python3.10/dist-packages (from selenium) (2023.7.22)\n",
            "Requirement already satisfied: attrs>=20.1.0 in /usr/local/lib/python3.10/dist-packages (from trio~=0.17->selenium) (23.1.0)\n",
            "Requirement already satisfied: sortedcontainers in /usr/local/lib/python3.10/dist-packages (from trio~=0.17->selenium) (2.4.0)\n",
            "Requirement already satisfied: idna in /usr/local/lib/python3.10/dist-packages (from trio~=0.17->selenium) (3.4)\n",
            "Collecting outcome (from trio~=0.17->selenium)\n",
            "  Downloading outcome-1.3.0.post0-py2.py3-none-any.whl (10 kB)\n",
            "Requirement already satisfied: sniffio in /usr/local/lib/python3.10/dist-packages (from trio~=0.17->selenium) (1.3.0)\n",
            "Requirement already satisfied: exceptiongroup>=1.0.0rc9 in /usr/local/lib/python3.10/dist-packages (from trio~=0.17->selenium) (1.1.3)\n",
            "Collecting wsproto>=0.14 (from trio-websocket~=0.9->selenium)\n",
            "  Downloading wsproto-1.2.0-py3-none-any.whl (24 kB)\n",
            "Requirement already satisfied: pysocks!=1.5.7,<2.0,>=1.5.6 in /usr/local/lib/python3.10/dist-packages (from urllib3[socks]<3,>=1.26->selenium) (1.7.1)\n",
            "Collecting h11<1,>=0.9.0 (from wsproto>=0.14->trio-websocket~=0.9->selenium)\n",
            "  Downloading h11-0.14.0-py3-none-any.whl (58 kB)\n",
            "\u001b[2K     \u001b[90m━━━━━━━━━━━━━━━━━━━━━━━━━━━━━━━━━━━━━━━━\u001b[0m \u001b[32m58.3/58.3 kB\u001b[0m \u001b[31m7.3 MB/s\u001b[0m eta \u001b[36m0:00:00\u001b[0m\n",
            "\u001b[?25hInstalling collected packages: outcome, h11, wsproto, trio, trio-websocket, selenium\n",
            "Successfully installed h11-0.14.0 outcome-1.3.0.post0 selenium-4.15.0 trio-0.22.2 trio-websocket-0.11.1 wsproto-1.2.0\n"
          ]
        }
      ]
    },
    {
      "cell_type": "code",
      "source": [
        "import concurrent.futures\n",
        "from selenium import webdriver\n",
        "from selenium.webdriver.chrome.options import Options\n",
        "from selenium.webdriver.common.by import By\n",
        "from csv import writer\n",
        "import time\n",
        "\n",
        "def scrape_upwork_page(url):\n",
        "    chrome_options = Options()\n",
        "    chrome_options.add_argument('--ignore-ssl-errors=yes')\n",
        "    chrome_options.add_argument('--headless')\n",
        "    chrome_options.add_argument('--no-sandbox')\n",
        "    chrome_options.add_argument('user-agent=Mozilla/5.0 (Windows NT 10.0; Win64; x64) AppleWebKit/537.36 (KHTML, like Gecko) Chrome/58.0.3029.110 Safari/537.36')\n",
        "\n",
        "    driver = webdriver.Chrome(options=chrome_options)\n",
        "\n",
        "    driver.get(url)\n",
        "\n",
        "    job_titles = driver.find_elements(By.CSS_SELECTOR, \"h2[class='my-0 p-sm-right job-tile-title'] > a\")\n",
        "    job_pay = driver.find_elements(By.CSS_SELECTOR, \"strong[data-test='job-type']\")\n",
        "    job_description_elements = driver.find_elements(By.CSS_SELECTOR, \"div[data-test='job-description-line-clamp'] span[data-test='job-description-text']\")\n",
        "\n",
        "    job_data = []\n",
        "\n",
        "    for i in range(len(job_titles)):\n",
        "        job_title = job_titles[i].text\n",
        "        job_pay_text = job_pay[i].text\n",
        "        job_description = job_description_elements[i].text\n",
        "        job_data.append([job_title, job_pay_text, job_description, url])\n",
        "\n",
        "    driver.quit()\n",
        "\n",
        "    return job_data\n",
        "\n",
        "if __name__ == '__main__':\n",
        "    keyword = 'python'\n",
        "    urls = [f'https://www.upwork.com/nx/jobs/search/?q={keyword}&sort=recency' for _ in range(4)]\n",
        "\n",
        "    with concurrent.futures.ThreadPoolExecutor() as executor:\n",
        "        results = list(executor.map(scrape_upwork_page, urls))\n",
        "\n",
        "    csv_filename = 'UpworkData.csv'\n",
        "    with open(csv_filename, 'a', newline='') as fd:\n",
        "        csv_file = writer(fd, delimiter=\",\")\n",
        "\n",
        "        for job_data in results:\n",
        "            for row in job_data:\n",
        "                csv_file.writerow(row)\n"
      ],
      "metadata": {
        "id": "-z6NaF7EtpIr"
      },
      "execution_count": 31,
      "outputs": []
    },
    {
      "cell_type": "code",
      "source": [
        "import pandas as pd\n",
        "\n",
        "df= pd.read_csv(\"UpworkData.csv\")\n",
        "print(df.sample(5))"
      ],
      "metadata": {
        "colab": {
          "base_uri": "https://localhost:8080/"
        },
        "id": "QfsLJGmHMX4J",
        "outputId": "013bdc83-5332-45d8-aece-7a7c5b1be1ce"
      },
      "execution_count": 32,
      "outputs": [
        {
          "output_type": "stream",
          "name": "stdout",
          "text": [
            "                             Provider Data Analyst II           Hourly  \\\n",
            "5   Build a Serverless Voice Chatbot/IVR Tree usin...  Hourly: $70-$85   \n",
            "2       Seeking Software Developer for Customized App  Hourly: $45-$70   \n",
            "28  Articulate entry-level DevOps Engineer to join...  Hourly: $70-$90   \n",
            "33                        Work from home Data Analyst           Hourly   \n",
            "9                            Provider Data Analyst II           Hourly   \n",
            "\n",
            "   Provider Data Analyst II Analyze, research, and input relevant data for providers added to the organization's network through individual contracts, facility/ancillary contracts and/or newly acquired group contracts. Maintain changes to current provider files including provider...  \\\n",
            "5   I have already built a prototype on Twilio. It...                                                                                                                                                                                                                                         \n",
            "2   Seeking a Software Developer with extensive ex...                                                                                                                                                                                                                                         \n",
            "28  We are seeking a talented DevOps Engineer to j...                                                                                                                                                                                                                                         \n",
            "33  We are currently in search of a Data Analyst t...                                                                                                                                                                                                                                         \n",
            "9   Provider Data Analyst II Analyze, research, an...                                                                                                                                                                                                                                         \n",
            "\n",
            "   https://www.upwork.com/nx/jobs/search/?q=python&sort=recency  \n",
            "5   https://www.upwork.com/nx/jobs/search/?q=pytho...            \n",
            "2   https://www.upwork.com/nx/jobs/search/?q=pytho...            \n",
            "28  https://www.upwork.com/nx/jobs/search/?q=pytho...            \n",
            "33  https://www.upwork.com/nx/jobs/search/?q=pytho...            \n",
            "9   https://www.upwork.com/nx/jobs/search/?q=pytho...            \n"
          ]
        }
      ]
    },
    {
      "cell_type": "code",
      "source": [],
      "metadata": {
        "id": "-hZIBqMBmUPj"
      },
      "execution_count": null,
      "outputs": []
    }
  ]
}